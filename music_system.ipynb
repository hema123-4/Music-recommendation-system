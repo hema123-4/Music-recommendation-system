{
  "cells": [
    {
      "cell_type": "code",
      "execution_count": null,
      "metadata": {
        "colab": {
          "base_uri": "https://localhost:8080/"
        },
        "id": "CQf4bISLOY34",
        "outputId": "c92846cf-6748-4718-ed36-1f78b5ea5e0e"
      },
      "outputs": [
        {
          "name": "stdout",
          "output_type": "stream",
          "text": [
            "Requirement already satisfied: Flask in /usr/local/lib/python3.10/dist-packages (2.2.5)\n",
            "Requirement already satisfied: scikit-learn in /usr/local/lib/python3.10/dist-packages (1.2.2)\n",
            "Requirement already satisfied: Werkzeug>=2.2.2 in /usr/local/lib/python3.10/dist-packages (from Flask) (2.3.7)\n",
            "Requirement already satisfied: Jinja2>=3.0 in /usr/local/lib/python3.10/dist-packages (from Flask) (3.1.2)\n",
            "Requirement already satisfied: itsdangerous>=2.0 in /usr/local/lib/python3.10/dist-packages (from Flask) (2.1.2)\n",
            "Requirement already satisfied: click>=8.0 in /usr/local/lib/python3.10/dist-packages (from Flask) (8.1.7)\n",
            "Requirement already satisfied: numpy>=1.17.3 in /usr/local/lib/python3.10/dist-packages (from scikit-learn) (1.23.5)\n",
            "Requirement already satisfied: scipy>=1.3.2 in /usr/local/lib/python3.10/dist-packages (from scikit-learn) (1.11.2)\n",
            "Requirement already satisfied: joblib>=1.1.1 in /usr/local/lib/python3.10/dist-packages (from scikit-learn) (1.3.2)\n",
            "Requirement already satisfied: threadpoolctl>=2.0.0 in /usr/local/lib/python3.10/dist-packages (from scikit-learn) (3.2.0)\n",
            "Requirement already satisfied: MarkupSafe>=2.0 in /usr/local/lib/python3.10/dist-packages (from Jinja2>=3.0->Flask) (2.1.3)\n"
          ]
        }
      ],
      "source": [
        "pip install Flask scikit-learn\n"
      ]
    },
    {
      "cell_type": "code",
      "execution_count": null,
      "metadata": {
        "id": "ueQo_ukrOlZQ"
      },
      "outputs": [],
      "source": [
        "from flask import Flask, request, render_template\n",
        "import joblib"
      ]
    },
    {
      "cell_type": "code",
      "execution_count": null,
      "metadata": {
        "id": "8_G5OH02O6rc"
      },
      "outputs": [],
      "source": [
        "import pandas as pd\n",
        "from sklearn.feature_extraction.text import TfidfVectorizer\n",
        "from sklearn.metrics.pairwise import linear_kernel\n"
      ]
    },
    {
      "cell_type": "code",
      "execution_count": null,
      "metadata": {
        "colab": {
          "base_uri": "https://localhost:8080/",
          "height": 179
        },
        "id": "vs7QedUSO89p",
        "outputId": "bfd94f5e-fd23-4976-99e1-cd00f345bcaa"
      },
      "outputs": [
        {
          "ename": "NameError",
          "evalue": "ignored",
          "output_type": "error",
          "traceback": [
            "\u001b[0;31m---------------------------------------------------------------------------\u001b[0m",
            "\u001b[0;31mNameError\u001b[0m                                 Traceback (most recent call last)",
            "\u001b[0;32m<ipython-input-1-0e923bc91bbb>\u001b[0m in \u001b[0;36m<cell line: 1>\u001b[0;34m()\u001b[0m\n\u001b[0;32m----> 1\u001b[0;31m \u001b[0mmusic_data\u001b[0m \u001b[0;34m=\u001b[0m \u001b[0mpd\u001b[0m\u001b[0;34m.\u001b[0m\u001b[0mread_csv\u001b[0m\u001b[0;34m(\u001b[0m\u001b[0;34m'song_data.csv'\u001b[0m\u001b[0;34m)\u001b[0m\u001b[0;34m\u001b[0m\u001b[0;34m\u001b[0m\u001b[0m\n\u001b[0m",
            "\u001b[0;31mNameError\u001b[0m: name 'pd' is not defined"
          ]
        }
      ],
      "source": [
        "music_data = pd.read_csv('song_data.csv')\n"
      ]
    },
    {
      "cell_type": "code",
      "execution_count": null,
      "metadata": {
        "colab": {
          "base_uri": "https://localhost:8080/"
        },
        "id": "pGtTBTnyPSae",
        "outputId": "309dad4e-9fc0-4238-b54f-2793a2cfd0b1"
      },
      "outputs": [
        {
          "name": "stdout",
          "output_type": "stream",
          "text": [
            "<class 'pandas.core.frame.DataFrame'>\n",
            "RangeIndex: 80357 entries, 0 to 80356\n",
            "Data columns (total 5 columns):\n",
            " #   Column       Non-Null Count  Dtype  \n",
            "---  ------       --------------  -----  \n",
            " 0   song_id      80357 non-null  object \n",
            " 1   title        80355 non-null  object \n",
            " 2   release      80356 non-null  object \n",
            " 3   artist_name  80356 non-null  object \n",
            " 4   year         80356 non-null  float64\n",
            "dtypes: float64(1), object(4)\n",
            "memory usage: 3.1+ MB\n"
          ]
        }
      ],
      "source": [
        "music_data.info()"
      ]
    },
    {
      "cell_type": "code",
      "execution_count": null,
      "metadata": {
        "colab": {
          "base_uri": "https://localhost:8080/"
        },
        "id": "LyNuUX1QPgtV",
        "outputId": "de9dfd6f-b186-427f-a885-2079e761316b"
      },
      "outputs": [
        {
          "name": "stdout",
          "output_type": "stream",
          "text": [
            "                  song_id              title  \\\n",
            "0      SOQMMHC12AB0180CB8       Silent Night   \n",
            "1      SOVFVAK12A8C1350D9        Tanssi vaan   \n",
            "2      SOGTUKN12AB017F4F1  No One Could Ever   \n",
            "3      SOBNYVR12A8C13558C      Si Vos Querés   \n",
            "4      SOHSBXH12A8C13B0DF   Tangle Of Aspens   \n",
            "...                   ...                ...   \n",
            "80352  SONTWLP12A8C1371A5     Bashment Freak   \n",
            "80353  SOGTFVG12A6D4FB782       Flash Gordon   \n",
            "80354  SOFJTRP12AB017E784      Upward Spiral   \n",
            "80355  SOZTLJV12A8C13FBBB             Medley   \n",
            "80356               SOPOH                NaN   \n",
            "\n",
            "                                    release       artist_name    year  \n",
            "0                     Monster Ballads X-Mas  Faster Pussy cat  2003.0  \n",
            "1                               Karkuteillä  Karkkiautomaatti  1995.0  \n",
            "2                                    Butter    Hudson Mohawke  2006.0  \n",
            "3                                   De Culo       Yerba Brava  2003.0  \n",
            "4      Rene Ablaze Presents Winter Sessions        Der Mystic     0.0  \n",
            "...                                     ...               ...     ...  \n",
            "80352             D'soca Zone: The 8th Fete          Jamesy P     0.0  \n",
            "80353                       Don't Look Down            Vivian  2005.0  \n",
            "80354                         Introspective        Brainchoke     0.0  \n",
            "80355                      Praise & Worship  Tramaine Hawkins     0.0  \n",
            "80356                                   NaN               NaN     NaN  \n",
            "\n",
            "[80357 rows x 5 columns]\n"
          ]
        }
      ],
      "source": [
        "print(music_data)"
      ]
    },
    {
      "cell_type": "code",
      "execution_count": null,
      "metadata": {
        "colab": {
          "base_uri": "https://localhost:8080/",
          "height": 506
        },
        "id": "_ydPRbp6QQca",
        "outputId": "d060eb45-d893-403e-980b-ae85532fa3b5"
      },
      "outputs": [
        {
          "data": {
            "text/plain": [
              "<bound method NDFrame.head of                   song_id              title  \\\n",
              "0      SOQMMHC12AB0180CB8       Silent Night   \n",
              "1      SOVFVAK12A8C1350D9        Tanssi vaan   \n",
              "2      SOGTUKN12AB017F4F1  No One Could Ever   \n",
              "3      SOBNYVR12A8C13558C      Si Vos Querés   \n",
              "4      SOHSBXH12A8C13B0DF   Tangle Of Aspens   \n",
              "...                   ...                ...   \n",
              "80352  SONTWLP12A8C1371A5     Bashment Freak   \n",
              "80353  SOGTFVG12A6D4FB782       Flash Gordon   \n",
              "80354  SOFJTRP12AB017E784      Upward Spiral   \n",
              "80355  SOZTLJV12A8C13FBBB             Medley   \n",
              "80356               SOPOH                NaN   \n",
              "\n",
              "                                    release       artist_name    year  \n",
              "0                     Monster Ballads X-Mas  Faster Pussy cat  2003.0  \n",
              "1                               Karkuteillä  Karkkiautomaatti  1995.0  \n",
              "2                                    Butter    Hudson Mohawke  2006.0  \n",
              "3                                   De Culo       Yerba Brava  2003.0  \n",
              "4      Rene Ablaze Presents Winter Sessions        Der Mystic     0.0  \n",
              "...                                     ...               ...     ...  \n",
              "80352             D'soca Zone: The 8th Fete          Jamesy P     0.0  \n",
              "80353                       Don't Look Down            Vivian  2005.0  \n",
              "80354                         Introspective        Brainchoke     0.0  \n",
              "80355                      Praise & Worship  Tramaine Hawkins     0.0  \n",
              "80356                                   NaN               NaN     NaN  \n",
              "\n",
              "[80357 rows x 5 columns]>"
            ]
          },
          "metadata": {},
          "output_type": "display_data"
        }
      ],
      "source": [
        "display(music_data.head)"
      ]
    },
    {
      "cell_type": "code",
      "execution_count": null,
      "metadata": {
        "id": "0149djwvRPrX"
      },
      "outputs": [],
      "source": [
        "music_data['title'].fillna('', inplace=True)\n"
      ]
    },
    {
      "cell_type": "code",
      "execution_count": null,
      "metadata": {
        "id": "MjdxnekARRwf"
      },
      "outputs": [],
      "source": [
        "music_data.dropna(subset=['title'], inplace=True)\n"
      ]
    },
    {
      "cell_type": "code",
      "execution_count": null,
      "metadata": {
        "id": "oOZmwZdYRWIl"
      },
      "outputs": [],
      "source": [
        "from sklearn.feature_extraction.text import TfidfVectorizer\n",
        "\n",
        "# Create a TF-IDF vectorizer\n",
        "tfidf_vectorizer = TfidfVectorizer()\n",
        "\n",
        "# Fit and transform the 'title' column\n",
        "tfidf_matrix = tfidf_vectorizer.fit_transform(music_data['title'])\n"
      ]
    },
    {
      "cell_type": "code",
      "execution_count": null,
      "metadata": {
        "id": "uyVK0GO4WGth"
      },
      "outputs": [],
      "source": [
        "from flask import Flask, request, render_template\n",
        "import joblib"
      ]
    },
    {
      "cell_type": "code",
      "execution_count": null,
      "metadata": {
        "id": "rcSL_XTkWIxx"
      },
      "outputs": [],
      "source": [
        "app = Flask(__name__)"
      ]
    },
    {
      "cell_type": "code",
      "execution_count": null,
      "metadata": {
        "colab": {
          "base_uri": "https://localhost:8080/"
        },
        "id": "EMPPqTnYWi3g",
        "outputId": "7517a9b0-5b53-4d3f-d53b-4cc3410802c4"
      },
      "outputs": [
        {
          "name": "stdout",
          "output_type": "stream",
          "text": [
            "Requirement already satisfied: joblib in /usr/local/lib/python3.10/dist-packages (1.3.2)\n"
          ]
        }
      ],
      "source": [
        "pip install --upgrade joblib"
      ]
    },
    {
      "cell_type": "code",
      "execution_count": null,
      "metadata": {
        "colab": {
          "base_uri": "https://localhost:8080/"
        },
        "id": "wgbITVEFXoO3",
        "outputId": "16a50b2d-379e-45f0-dab3-f22aed71bf16"
      },
      "outputs": [
        {
          "data": {
            "text/plain": [
              "['/content/song_data.pkl']"
            ]
          },
          "execution_count": 14,
          "metadata": {},
          "output_type": "execute_result"
        }
      ],
      "source": [
        "import joblib\n",
        "\n",
        "# Define your data (replace this with your actual data)\n",
        "data = {'song_id': 1, 'title': 'Song Title', 'release': 'Release Date', 'artist_name': 'Artist Name', 'year': 2022}\n",
        "\n",
        "# Save the data using joblib.dump()\n",
        "joblib.dump(data, '/content/song_data.pkl', protocol=4)\n"
      ]
    },
    {
      "cell_type": "code",
      "execution_count": null,
      "metadata": {
        "id": "5OemmWVgXxF8"
      },
      "outputs": [],
      "source": [
        "model = joblib.load('/content/song_data.pkl')"
      ]
    },
    {
      "cell_type": "code",
      "execution_count": null,
      "metadata": {
        "id": "n5-TVERSYeCZ"
      },
      "outputs": [],
      "source": [
        "@app.route('/')\n",
        "def index():\n",
        "    return render_template('/content/music_system.html')"
      ]
    },
    {
      "cell_type": "code",
      "execution_count": null,
      "metadata": {
        "id": "0-B9rtzwYwQ-"
      },
      "outputs": [],
      "source": [
        "@app.route('/recommend', methods=['POST'])\n",
        "def recommend():\n",
        "    # Get user input from the form\n",
        "    artist_name = request.form['artist_name']\n",
        "    year = int(request.form['year'])\n",
        "    title = request.form['title']\n",
        "    feature_vector = [artist_name, year, title]\n",
        "\n",
        "    # Make a recommendation using the model\n",
        "    recommendation = model.predict([feature_vector])[0]\n",
        "\n",
        "    return f'Recommended Song: {recommendation}'"
      ]
    },
    {
      "cell_type": "code",
      "execution_count": null,
      "metadata": {
        "colab": {
          "background_save": true,
          "base_uri": "https://localhost:8080/"
        },
        "id": "dpZmfZN-Y8vf",
        "outputId": "b39af71f-9a3f-4d16-c9d5-b296e7810622"
      },
      "outputs": [
        {
          "name": "stdout",
          "output_type": "stream",
          "text": [
            " * Serving Flask app '__main__'\n",
            " * Debug mode: on\n"
          ]
        },
        {
          "name": "stderr",
          "output_type": "stream",
          "text": [
            "INFO:werkzeug:\u001b[31m\u001b[1mWARNING: This is a development server. Do not use it in a production deployment. Use a production WSGI server instead.\u001b[0m\n",
            " * Running on http://127.0.0.1:5000\n",
            "INFO:werkzeug:\u001b[33mPress CTRL+C to quit\u001b[0m\n",
            "INFO:werkzeug: * Restarting with stat\n"
          ]
        }
      ],
      "source": [
        "if __name__ == '__main__':\n",
        "    app.run(debug=True)"
      ]
    }
  ],
  "metadata": {
    "colab": {
      "provenance": []
    },
    "kernelspec": {
      "display_name": "Python 3",
      "name": "python3"
    },
    "language_info": {
      "name": "python"
    }
  },
  "nbformat": 4,
  "nbformat_minor": 0
}
